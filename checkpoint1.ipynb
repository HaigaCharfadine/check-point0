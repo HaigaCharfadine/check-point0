{
 "cells": [
  {
   "cell_type": "code",
   "execution_count": 12,
   "id": "19eac7e6",
   "metadata": {},
   "outputs": [
    {
     "name": "stdout",
     "output_type": "stream",
     "text": [
      "prenomhaiga\n",
      "nomcharfadine\n",
      "charfadine haiga\n"
     ]
    }
   ],
   "source": [
    "prenom=input(\"prenom\")\n",
    "nom=input(\"nom\")\n",
    "print (nom+\" \"+prenom)"
   ]
  },
  {
   "cell_type": "code",
   "execution_count": 33,
   "id": "55554835",
   "metadata": {},
   "outputs": [
    {
     "name": "stdout",
     "output_type": "stream",
     "text": [
      "saisir un nombre:5\n",
      "le result est: 615\n"
     ]
    }
   ],
   "source": [
    "n=int(input(\"saisir un nombre:\"))\n",
    "s=0\n",
    "s= s + n +(n*10+5)+(n*100+n*10+5)\n",
    "print(\"le result est:\",s)\n"
   ]
  },
  {
   "cell_type": "code",
   "execution_count": 53,
   "id": "8838de43",
   "metadata": {},
   "outputs": [
    {
     "name": "stdout",
     "output_type": "stream",
     "text": [
      "saisir un nombre:10\n",
      "pair\n"
     ]
    }
   ],
   "source": [
    "n=int(input(\"saisir un nombre:\"))\n",
    "if n%2==0:\n",
    "    print(\"pair\")\n",
    "else :\n",
    "    print(\"impair\")\n"
   ]
  },
  {
   "cell_type": "code",
   "execution_count": 97,
   "id": "0c31ce19",
   "metadata": {},
   "outputs": [
    {
     "name": "stdout",
     "output_type": "stream",
     "text": [
      "2002 2009 2016 2023 2037 2044 2051 2058 2072 2079 2086 2093 2107 2114 2121 2128 2142 2149 2156 2163 2177 2184 2191 2198 2212 2219 2226 2233 2247 2254 2261 2268 2282 2289 2296 2303 2317 2324 2331 2338 2352 2359 2366 2373 2387 2394 2401 2408 2422 2429 2436 2443 2457 2464 2471 2478 2492 2499 2506 2513 2527 2534 2541 2548 2562 2569 2576 2583 2597 2604 2611 2618 2632 2639 2646 2653 2667 2674 2681 2688 2702 2709 2716 2723 2737 2744 2751 2758 2772 2779 2786 2793 2807 2814 2821 2828 2842 2849 2856 2863 2877 2884 2891 2898 2912 2919 2926 2933 2947 2954 2961 2968 2982 2989 2996 3003 3017 3024 3031 3038 3052 3059 3066 3073 3087 3094 3101 3108 3122 3129 3136 3143 3157 3164 3171 3178 3192 3199 "
     ]
    }
   ],
   "source": [
    "for x in range(2000,3200):\n",
    "    begin=\" \"\n",
    "    if x % 7==0 and x %5!=0:\n",
    "        print(x,end=\" \")"
   ]
  },
  {
   "cell_type": "code",
   "execution_count": 104,
   "id": "8a86f04b",
   "metadata": {},
   "outputs": [
    {
     "name": "stdout",
     "output_type": "stream",
     "text": [
      "donner un nombre:8\n",
      "8 :! 1\n",
      "8 :! 2\n",
      "8 :! 6\n",
      "8 :! 24\n",
      "8 :! 120\n",
      "8 :! 720\n",
      "8 :! 5040\n",
      "8 :! 40320\n"
     ]
    }
   ],
   "source": [
    "fac=1\n",
    "n=int(input(\"donner un nombre:\"))\n",
    "for i in range(1, n+1):\n",
    "    fac = fac * i\n",
    "    print (n,'!=',fac)"
   ]
  },
  {
   "cell_type": "code",
   "execution_count": 123,
   "id": "1d4bb14a",
   "metadata": {},
   "outputs": [
    {
     "name": "stdout",
     "output_type": "stream",
     "text": [
      "saisir une chaine:hello team\n",
      "result:   h\n",
      "result:   hl\n",
      "result:   hlo\n",
      "result:   hlot\n",
      "result:   hlota\n"
     ]
    }
   ],
   "source": [
    "ht_string=input(\"saisir une chaine:\")\n",
    "ht_string1=''\n",
    "for i in range(len(ht_string)):\n",
    "    if (i%2==0):\n",
    "        ht_string1=ht_string1+ht_string[i]\n",
    "        print(\"result:  \",ht_string1)\n",
    "        "
   ]
  },
  {
   "cell_type": "code",
   "execution_count": 141,
   "id": "c3770f8e",
   "metadata": {},
   "outputs": [
    {
     "name": "stdout",
     "output_type": "stream",
     "text": [
      "donner un nombre:100\n",
      "la nouvelle prix est: 90.0\n"
     ]
    }
   ],
   "source": [
    "px=int(input(\"donner un nombre:\"))\n",
    "if px >= 500:\n",
    "    px = px / 2\n",
    "elif 200 <= px < 500:\n",
    "        px = px * 0.7\n",
    "elif px < 200:\n",
    "            px = px * 0.9\n",
    "            print(\"la nouvelle prix est:\",px)\n",
    "        "
   ]
  },
  {
   "cell_type": "code",
   "execution_count": null,
   "id": "46488495",
   "metadata": {},
   "outputs": [],
   "source": []
  },
  {
   "cell_type": "code",
   "execution_count": null,
   "id": "e3f32580",
   "metadata": {},
   "outputs": [],
   "source": []
  }
 ],
 "metadata": {
  "kernelspec": {
   "display_name": "Python 3",
   "language": "python",
   "name": "python3"
  },
  "language_info": {
   "codemirror_mode": {
    "name": "ipython",
    "version": 3
   },
   "file_extension": ".py",
   "mimetype": "text/x-python",
   "name": "python",
   "nbconvert_exporter": "python",
   "pygments_lexer": "ipython3",
   "version": "3.8.8"
  }
 },
 "nbformat": 4,
 "nbformat_minor": 5
}
