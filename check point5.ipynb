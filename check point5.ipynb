{
 "cells": [
  {
   "cell_type": "code",
   "execution_count": 2,
   "id": "f1445657",
   "metadata": {},
   "outputs": [
    {
     "name": "stdout",
     "output_type": "stream",
     "text": [
      "la liste converti: [1, 4, 3, 2, 5, 7, 9, 3]\n"
     ]
    }
   ],
   "source": [
    "#exo1\n",
    "from array import*\n",
    "array_num= array('i',[1,4,3,2,5,7,9,3])\n",
    "num_list=array_num.tolist()\n",
    "print(\"la liste converti:\",num_list)"
   ]
  },
  {
   "cell_type": "code",
   "execution_count": 6,
   "id": "e9a05d58",
   "metadata": {},
   "outputs": [
    {
     "name": "stdout",
     "output_type": "stream",
     "text": [
      "la somme des elements diagonaux est: 30\n"
     ]
    }
   ],
   "source": [
    "#exo2\n",
    "import numpy as np\n",
    "t=np.arange(16).reshape(4,4)\n",
    "result=np.trace(t)\n",
    "print(\"la somme des elements diagonaux est:\",result)"
   ]
  },
  {
   "cell_type": "code",
   "execution_count": 12,
   "id": "7633b2b4",
   "metadata": {},
   "outputs": [
    {
     "name": "stdout",
     "output_type": "stream",
     "text": [
      "les valeurs supperieur a 2 sont [3 5]\n"
     ]
    }
   ],
   "source": [
    "#exo3\n",
    "import numpy as np\n",
    "x=np.array([[1,2],[3,5]])\n",
    "print(\"les valeurs supperieur a 2 sont\",x[x>2])\n"
   ]
  },
  {
   "cell_type": "code",
   "execution_count": 13,
   "id": "3fd923a4",
   "metadata": {},
   "outputs": [
    {
     "name": "stdout",
     "output_type": "stream",
     "text": [
      "[[ 9. 11.]\n",
      " [ 6. 10.]]\n"
     ]
    }
   ],
   "source": [
    "#exo4\n",
    "import numpy as np\n",
    "a=np.array([[2,3],[5,6]],dtype=np.float64)\n",
    "b=np.array([[7,8],[1,4]],dtype=np.float64)\n",
    "C=np.add(a,b)\n",
    "print(C)"
   ]
  },
  {
   "cell_type": "code",
   "execution_count": 14,
   "id": "fdb22879",
   "metadata": {},
   "outputs": [
    {
     "name": "stdout",
     "output_type": "stream",
     "text": [
      "[[0.66108694 0.80666019 0.35837018 0.29239167]\n",
      " [0.22028567 0.76370509 0.88714543 0.73168642]\n",
      " [0.58603158 0.49468983 0.32366282 0.46514539]]\n",
      "[[ 0.1314597   0.27703294 -0.17125706 -0.23723557]\n",
      " [-0.43041998  0.11299944  0.23643977  0.08098077]\n",
      " [ 0.11864917  0.02730743 -0.14371958 -0.00223701]]\n"
     ]
    }
   ],
   "source": [
    "#exo5\n",
    "import numpy as np\n",
    "a=np.random.rand(3,4)\n",
    "print(a)\n",
    "b=a-a.mean(axis=1, keepdims=True)\n",
    "print(b)"
   ]
  },
  {
   "cell_type": "code",
   "execution_count": null,
   "id": "44328690",
   "metadata": {},
   "outputs": [],
   "source": []
  }
 ],
 "metadata": {
  "kernelspec": {
   "display_name": "Python 3",
   "language": "python",
   "name": "python3"
  },
  "language_info": {
   "codemirror_mode": {
    "name": "ipython",
    "version": 3
   },
   "file_extension": ".py",
   "mimetype": "text/x-python",
   "name": "python",
   "nbconvert_exporter": "python",
   "pygments_lexer": "ipython3",
   "version": "3.8.8"
  }
 },
 "nbformat": 4,
 "nbformat_minor": 5
}
