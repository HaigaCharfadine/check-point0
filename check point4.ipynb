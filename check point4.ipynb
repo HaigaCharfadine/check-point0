{
 "cells": [
  {
   "cell_type": "code",
   "execution_count": 85,
   "id": "a3c30f0a",
   "metadata": {},
   "outputs": [
    {
     "name": "stdout",
     "output_type": "stream",
     "text": [
      "monpointest: 1 2 3\n"
     ]
    }
   ],
   "source": [
    "class Point3D:\n",
    "     def  __init__ ( self , x, y , z ):\n",
    "        self. x  =  x\n",
    "        self. y  =  y\n",
    "        self. z  =  z\n",
    "        \n",
    "monPoint  =  Point3D ( 1 ,2 ,3 )\n",
    "print('monpointest:',monPoint.x,monPoint.y,monPoint.z)"
   ]
  },
  {
   "cell_type": "code",
   "execution_count": 86,
   "id": "76baa250",
   "metadata": {},
   "outputs": [
    {
     "name": "stdout",
     "output_type": "stream",
     "text": [
      "entre la longueur de rectangle:4\n",
      "entre la largeur de rectangle:3\n",
      "l'aire de rectangle est: 12\n",
      "le perimetre de rectangle est: 14\n"
     ]
    }
   ],
   "source": [
    "long=int(input('entre la longueur de rectangle:'))\n",
    "larg=int(input('entre la largeur de rectangle:'))\n",
    "class Rectangle:\n",
    "    def __init__(self,long,larg):\n",
    "        self.long =long\n",
    "        self.larg =larg\n",
    "        \n",
    "    def area(self):\n",
    "        return self.long*self.larg\n",
    "\n",
    "    def perimetre(self):\n",
    "        return 2*(self.long + self.larg)\n",
    "    \n",
    "rec=Rectangle(long,larg)\n",
    "print(\"l'aire de rectangle est:\",rec.area())\n",
    "print(\"le perimetre de rectangle est:\",rec.perimetre())\n",
    "    "
   ]
  },
  {
   "cell_type": "markdown",
   "id": "460ffcc4",
   "metadata": {},
   "source": []
  },
  {
   "cell_type": "code",
   "execution_count": 56,
   "id": "a541395a",
   "metadata": {},
   "outputs": [
    {
     "name": "stdout",
     "output_type": "stream",
     "text": [
      "(108, 14)\n",
      "(36, 14)\n"
     ]
    }
   ],
   "source": [
    "class Cercle():\n",
    "    def __init__(self,r):\n",
    "        self.r=r\n",
    "        \n",
    "    def area(self):\n",
    "        return self.r**2*3,14\n",
    "    \n",
    "    def perimetre(self):\n",
    "        return 2*self.r*3,14\n",
    "    \n",
    "NewCercle=Cercle(6)\n",
    "print(NewCercle.area())\n",
    "print(NewCercle.perimetre())\n",
    "            \n",
    "    "
   ]
  },
  {
   "cell_type": "code",
   "execution_count": 78,
   "id": "96b816f8",
   "metadata": {},
   "outputs": [
    {
     "name": "stdout",
     "output_type": "stream",
     "text": [
      "entre the amount of money that you want to withdraw:400\n",
      "the new amount is: 400.0\n",
      "entre the amount of money that you want to disposit:300\n",
      "the new amount is: 300.0\n",
      "400.0\n"
     ]
    }
   ],
   "source": [
    "balance=500\n",
    "class Bankaccount:\n",
    "    def __init__(self,balance):\n",
    "        self.balance=balance\n",
    "    def withdraw(self):\n",
    "        amount=float(input('entre the amount of money that you want to withdraw:'))\n",
    "        self.balance-=amount\n",
    "        print('the new amount is:',amount)  \n",
    "    def deposit(self):\n",
    "        amount2=float(input('entre the amount of money that you want to disposit:'))\n",
    "        self.balance+=amount2\n",
    "        print('the new amount is:',amount2)\n",
    "    def display(self):\n",
    "        print(self.balance)\n",
    "B=Bankaccount(balance)\n",
    "B.withdraw()\n",
    "B.deposit()\n",
    "B.display()\n",
    "                "
   ]
  },
  {
   "cell_type": "code",
   "execution_count": null,
   "id": "d42f36d3",
   "metadata": {},
   "outputs": [],
   "source": []
  },
  {
   "cell_type": "code",
   "execution_count": null,
   "id": "0ae4879e",
   "metadata": {},
   "outputs": [],
   "source": []
  }
 ],
 "metadata": {
  "kernelspec": {
   "display_name": "Python 3",
   "language": "python",
   "name": "python3"
  },
  "language_info": {
   "codemirror_mode": {
    "name": "ipython",
    "version": 3
   },
   "file_extension": ".py",
   "mimetype": "text/x-python",
   "name": "python",
   "nbconvert_exporter": "python",
   "pygments_lexer": "ipython3",
   "version": "3.8.8"
  }
 },
 "nbformat": 4,
 "nbformat_minor": 5
}
