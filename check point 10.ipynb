{
 "cells": [
  {
   "cell_type": "code",
   "execution_count": 2,
   "id": "a3a5afe2",
   "metadata": {},
   "outputs": [
    {
     "name": "stdout",
     "output_type": "stream",
     "text": [
      "saisir la durée du compte à rebours en secondes: 5\n",
      "Feu dans le trou\n"
     ]
    }
   ],
   "source": [
    "import time\n",
    "t= int(input('saisir la durée du compte à rebours en secondes: '))\n",
    "def countdown(t):\n",
    "    while t>0 :\n",
    "        m,s = divmod(t, 60)\n",
    "        timer = '{:02d}:{:02d}'.format(m,s)\n",
    "        print(timer, end=\"\\r\")\n",
    "        time.sleep(1)\n",
    "        t -= 1\n",
    "    print('Feu dans le trou')\n",
    "countdown(t)"
   ]
  },
  {
   "cell_type": "code",
   "execution_count": null,
   "id": "10c66255",
   "metadata": {},
   "outputs": [],
   "source": []
  }
 ],
 "metadata": {
  "kernelspec": {
   "display_name": "Python 3",
   "language": "python",
   "name": "python3"
  },
  "language_info": {
   "codemirror_mode": {
    "name": "ipython",
    "version": 3
   },
   "file_extension": ".py",
   "mimetype": "text/x-python",
   "name": "python",
   "nbconvert_exporter": "python",
   "pygments_lexer": "ipython3",
   "version": "3.8.8"
  }
 },
 "nbformat": 4,
 "nbformat_minor": 5
}
