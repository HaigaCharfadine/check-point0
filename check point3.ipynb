{
 "cells": [
  {
   "cell_type": "code",
   "execution_count": 9,
   "id": "39aa5525",
   "metadata": {},
   "outputs": [
    {
     "name": "stdout",
     "output_type": "stream",
     "text": [
      "Hello World, this is my first function\n"
     ]
    }
   ],
   "source": [
    "def function_name():# set of tasks\n",
    "    print(\"Hello World, this is my first function\")# end of function\n",
    "function_name()\n"
   ]
  },
  {
   "cell_type": "code",
   "execution_count": 10,
   "id": "b0f5e886",
   "metadata": {},
   "outputs": [
    {
     "name": "stdout",
     "output_type": "stream",
     "text": [
      "I want to learn to code!\n",
      "I want to learn to do AI!\n"
     ]
    }
   ],
   "source": [
    "def my_function(parameter):\n",
    "    print(\"I want to learn \"+parameter)\n",
    "my_function(\"to code!\")  #it returns \"I want to learn to code!\"\n",
    "my_function(\"to do AI!\")  #it returns \"I want to learn to do AI!\""
   ]
  },
  {
   "cell_type": "code",
   "execution_count": 169,
   "id": "7a88a20c",
   "metadata": {},
   "outputs": [
    {
     "ename": "NameError",
     "evalue": "name 'liste' is not defined",
     "output_type": "error",
     "traceback": [
      "\u001b[1;31m---------------------------------------------------------------------------\u001b[0m",
      "\u001b[1;31mNameError\u001b[0m                                 Traceback (most recent call last)",
      "\u001b[1;32m<ipython-input-169-3dfd4b463a41>\u001b[0m in \u001b[0;36m<module>\u001b[1;34m\u001b[0m\n\u001b[0;32m      1\u001b[0m \u001b[1;32mdef\u001b[0m \u001b[0mlength\u001b[0m\u001b[1;33m(\u001b[0m\u001b[0mliste\u001b[0m\u001b[1;33m)\u001b[0m\u001b[1;33m:\u001b[0m\u001b[1;33m\u001b[0m\u001b[1;33m\u001b[0m\u001b[0m\n\u001b[0;32m      2\u001b[0m     \u001b[0ms\u001b[0m\u001b[1;33m=\u001b[0m\u001b[1;36m0\u001b[0m\u001b[1;33m\u001b[0m\u001b[1;33m\u001b[0m\u001b[0m\n\u001b[1;32m----> 3\u001b[1;33m \u001b[1;32mfor\u001b[0m \u001b[0mi\u001b[0m \u001b[1;32min\u001b[0m \u001b[0mliste\u001b[0m\u001b[1;33m:\u001b[0m\u001b[1;33m\u001b[0m\u001b[1;33m\u001b[0m\u001b[0m\n\u001b[0m\u001b[0;32m      4\u001b[0m     \u001b[0ms\u001b[0m\u001b[1;33m+=\u001b[0m\u001b[1;36m1\u001b[0m\u001b[1;33m\u001b[0m\u001b[1;33m\u001b[0m\u001b[0m\n\u001b[0;32m      5\u001b[0m \u001b[1;32mreturn\u001b[0m\u001b[1;33m(\u001b[0m\u001b[0ms\u001b[0m\u001b[1;33m)\u001b[0m\u001b[1;33m\u001b[0m\u001b[1;33m\u001b[0m\u001b[0m\n",
      "\u001b[1;31mNameError\u001b[0m: name 'liste' is not defined"
     ]
    }
   ],
   "source": [
    "def length(liste):\n",
    "    s=0\n",
    "for i in liste:\n",
    "    s+=1\n",
    "return(s)\n",
    "a=[1,2,3,4]\n",
    "print(length(a)) #4\n",
    "b = [1,2]\n",
    "print(length(b)) #2"
   ]
  },
  {
   "cell_type": "code",
   "execution_count": 146,
   "id": "b5c4046b",
   "metadata": {},
   "outputs": [
    {
     "name": "stdout",
     "output_type": "stream",
     "text": [
      "16\n",
      "21\n"
     ]
    }
   ],
   "source": [
    "def operation(x,y,z):\n",
    "      print((x+y)*z)\n",
    "operation(5,3,2) #16\n",
    "operation(5,2,3) #21"
   ]
  },
  {
   "cell_type": "code",
   "execution_count": 35,
   "id": "347cbd94",
   "metadata": {},
   "outputs": [
    {
     "name": "stdout",
     "output_type": "stream",
     "text": [
      "I am from Maroc\n",
      "I am from Algeria\n",
      "I am from Tunisia\n"
     ]
    }
   ],
   "source": [
    "def my_function(country=\"Tunisia\"):\n",
    "    print(\"I am from \"+country)\n",
    "my_function(\"Maroc\")\n",
    "my_function(\"Algeria\")\n",
    "my_function()"
   ]
  },
  {
   "cell_type": "code",
   "execution_count": 44,
   "id": "ef781afd",
   "metadata": {},
   "outputs": [
    {
     "name": "stdout",
     "output_type": "stream",
     "text": [
      "35\n"
     ]
    }
   ],
   "source": [
    "def max_of_two( x, y ):\n",
    "    if x > y:\n",
    "        return x\n",
    "    return y\n",
    "def max_of_three( x, y, z ):\n",
    "    return max_of_two( x, max_of_two( y, z ) )\n",
    "print(max_of_three(20, 35, 19))\n"
   ]
  },
  {
   "cell_type": "code",
   "execution_count": 61,
   "id": "f7d03f56",
   "metadata": {},
   "outputs": [
    {
     "name": "stdout",
     "output_type": "stream",
     "text": [
      "50,30\n"
     ]
    }
   ],
   "source": [
    "def calcul(x,y):\n",
    "    return x+y,x-y\n",
    "res=calcul(40,10)\n",
    "print(*res,sep=',')"
   ]
  },
  {
   "cell_type": "code",
   "execution_count": 166,
   "id": "be65bda0",
   "metadata": {},
   "outputs": [
    {
     "name": "stdout",
     "output_type": "stream",
     "text": [
      "la somme de nombre pair est: 16\n",
      "la prod de nombre impair est: 3\n",
      "None\n"
     ]
    }
   ],
   "source": [
    "list=[2,4,6,3]\n",
    "list1=[6,10]\n",
    "list2=[3,4]\n",
    "def sum(list):\n",
    "    s=0 \n",
    "    for i in list:\n",
    "        s=s+i\n",
    "    return s\n",
    "\n",
    "def prod(myList):\n",
    "    t=1\n",
    "    for x in myList:\n",
    "        t=t*x\n",
    "    return t\n",
    "    \n",
    "def odd_even(list):\n",
    "    list1=[]\n",
    "list2=[]\n",
    "i=0\n",
    "for x in list:\n",
    "    b=i%2\n",
    "    i+=1\n",
    "if b == 0:\n",
    "    list1.append(x)\n",
    "else:\n",
    "    list2.append(x) \n",
    "    print('la somme de nombre pair est:',sum(list1))\n",
    "    print('la prod de nombre impair est:',prod(list2))\n",
    "    print(odd_even(list))\n",
    "    "
   ]
  },
  {
   "cell_type": "code",
   "execution_count": 129,
   "id": "d211a2ed",
   "metadata": {},
   "outputs": [
    {
     "name": "stdout",
     "output_type": "stream",
     "text": [
      "verte-rouge-jaune-noir\n",
      "jaune-noir-rouge-verte\n"
     ]
    }
   ],
   "source": [
    "items=[n for n in input().split('-')]\n",
    "items.sort()\n",
    "print('-'.join(items))"
   ]
  },
  {
   "cell_type": "code",
   "execution_count": 137,
   "id": "4c54217d",
   "metadata": {},
   "outputs": [
    {
     "name": "stdout",
     "output_type": "stream",
     "text": [
      "entre un nombre D: 100,150,180\n",
      "[18, 22, 24]\n"
     ]
    }
   ],
   "source": [
    "import math\n",
    "\n",
    "numbers =input(\"entre un nombre D: \")\n",
    "numbers = numbers.split(',')\n",
    "\n",
    "result_list = []\n",
    "for D in numbers:\n",
    "    Q = round(math.sqrt(2 * 50 * int(D) / 30))\n",
    "    result_list.append(Q)\n",
    "\n",
    "print(result_list)"
   ]
  },
  {
   "cell_type": "code",
   "execution_count": null,
   "id": "a2e5f462",
   "metadata": {},
   "outputs": [],
   "source": []
  }
 ],
 "metadata": {
  "kernelspec": {
   "display_name": "Python 3",
   "language": "python",
   "name": "python3"
  },
  "language_info": {
   "codemirror_mode": {
    "name": "ipython",
    "version": 3
   },
   "file_extension": ".py",
   "mimetype": "text/x-python",
   "name": "python",
   "nbconvert_exporter": "python",
   "pygments_lexer": "ipython3",
   "version": "3.8.8"
  }
 },
 "nbformat": 4,
 "nbformat_minor": 5
}
