{
 "cells": [
  {
   "cell_type": "code",
   "execution_count": 1,
   "id": "e322802d",
   "metadata": {},
   "outputs": [
    {
     "name": "stdout",
     "output_type": "stream",
     "text": [
      "2\n",
      "3\n"
     ]
    },
    {
     "data": {
      "text/plain": [
       "'k is found'"
      ]
     },
     "execution_count": 1,
     "metadata": {},
     "output_type": "execute_result"
    }
   ],
   "source": [
    "def binary_search(A, l, h, k):\n",
    "    if h >= l:\n",
    "        mid = int(l + (h - l)/2)\n",
    "        print(mid)\n",
    "        if A[mid] == k:\n",
    "            return 'k is found'\n",
    "        elif A[mid] > k:\n",
    "            return binary_search(A, l, mid-1, k)\n",
    "        else:\n",
    "            return binary_search(A, mid+1, h, k)\n",
    "    else:\n",
    "        return 'k is not found'\n",
    "\n",
    "A=[1,2,3,5,8]\n",
    "k=5;l=0; h=len(A)-1;\n",
    "binary_search(A, l, h, k)\n",
    "\n"
   ]
  },
  {
   "cell_type": "code",
   "execution_count": 2,
   "id": "ee748ce9",
   "metadata": {},
   "outputs": [
    {
     "name": "stdout",
     "output_type": "stream",
     "text": [
      "81\n"
     ]
    }
   ],
   "source": [
    "a=1\n",
    "for i in range(4):\n",
    "    a=a*3\n",
    "print(a)"
   ]
  },
  {
   "cell_type": "code",
   "execution_count": 3,
   "id": "e89b1ffe",
   "metadata": {},
   "outputs": [
    {
     "name": "stdout",
     "output_type": "stream",
     "text": [
      "[13, 22, 29, 37, 46, 49, 52, 56, 71]\n"
     ]
    }
   ],
   "source": [
    "list= [29,13,22,37,52,49,46,71,56]\n",
    "for i in range(len(list)):\n",
    "    for j in range(len(list)):\n",
    "        if list[i]<=list[j]:\n",
    "            list[i],list[j]=list[j],list[i]\n",
    "print(list)"
   ]
  },
  {
   "cell_type": "code",
   "execution_count": 4,
   "id": "61094853",
   "metadata": {},
   "outputs": [
    {
     "name": "stdout",
     "output_type": "stream",
     "text": [
      "[29, 13, 22, 37, 52, 49, 46, 71, 56]\n",
      "[13, 22, 29, 37, 46, 49, 52, 56, 71]\n"
     ]
    }
   ],
   "source": [
    "def fusion(l):\n",
    "    n=len(l)\n",
    "    if n>1:\n",
    "        millieu= n//2\n",
    "        liste_gauche=l[0:millieu]\n",
    "        liste_droite=l[millieu:n]\n",
    "        fusion(liste_gauche)\n",
    "        fusion(liste_droite)\n",
    "        indice_liste=indice_gauche=indice_droite=0\n",
    "        while indice_gauche<len(liste_gauche) and indice_droite<len(liste_droite):\n",
    "            if liste_gauche[indice_gauche]<liste_droite[indice_droite]:\n",
    "                l[indice_liste]=liste_gauche[indice_gauche]\n",
    "                indice_gauche+=1\n",
    "            else:\n",
    "                l[indice_liste]=liste_droite[indice_droite]\n",
    "                indice_droite+=1\n",
    "            indice_liste+=1\n",
    "        while indice_gauche<len(liste_gauche):\n",
    "            l[indice_liste]=liste_gauche[indice_gauche]\n",
    "            indice_gauche+=1\n",
    "            indice_liste+=1\n",
    "        while indice_droite<len(liste_droite):\n",
    "                l[indice_liste]=liste_droite[indice_droite]\n",
    "                indice_droite+=1\n",
    "                indice_liste+=1\n",
    "l=[29,13,22,37,52,49,46,71,56]\n",
    "print(l)\n",
    "fusion(l)\n",
    "print(l)         "
   ]
  },
  {
   "cell_type": "code",
   "execution_count": 5,
   "id": "16d91db2",
   "metadata": {},
   "outputs": [
    {
     "name": "stdout",
     "output_type": "stream",
     "text": [
      "[13, 22, 29, 37, 46, 49, 52, 56, 71]\n"
     ]
    }
   ],
   "source": [
    "def partition(array, start, end):\n",
    "    pivot = array[start]\n",
    "    low = start + 1\n",
    "    high = end\n",
    "    while True:\n",
    "        \n",
    "        while low <= high and array[high] >= pivot:\n",
    "            high = high - 1\n",
    "        while low <= high and array[low] <= pivot:\n",
    "            low = low + 1\n",
    "        if low <= high:\n",
    "            array[low], array[high] = array[high], array[low]\n",
    "           \n",
    "        else:\n",
    "            \n",
    "            break\n",
    "\n",
    "    array[start], array[high] = array[high], array[start]\n",
    "\n",
    "    return high\n",
    "\n",
    "def quick_sort(array, start, end):\n",
    "    if start >= end:\n",
    "        return\n",
    "\n",
    "    p = partition(array, start, end)\n",
    "    quick_sort(array, start, p-1)\n",
    "    quick_sort(array, p+1, end)\n",
    "\n",
    "array = [29,13,22,37,52,49,46,71,56]\n",
    "quick_sort(array, 0, len(array) - 1)\n",
    "print(array)\n",
    "    \n",
    "    "
   ]
  },
  {
   "cell_type": "code",
   "execution_count": null,
   "id": "3e43fcfe",
   "metadata": {},
   "outputs": [],
   "source": []
  }
 ],
 "metadata": {
  "kernelspec": {
   "display_name": "Python 3",
   "language": "python",
   "name": "python3"
  },
  "language_info": {
   "codemirror_mode": {
    "name": "ipython",
    "version": 3
   },
   "file_extension": ".py",
   "mimetype": "text/x-python",
   "name": "python",
   "nbconvert_exporter": "python",
   "pygments_lexer": "ipython3",
   "version": "3.8.8"
  }
 },
 "nbformat": 4,
 "nbformat_minor": 5
}
